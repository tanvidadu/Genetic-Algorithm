{
 "cells": [
  {
   "cell_type": "code",
   "execution_count": 464,
   "metadata": {
    "collapsed": true
   },
   "outputs": [],
   "source": [
    "import pandas as pd\n",
    "import numpy as np\n",
    "import random\n",
    "import math\n",
    "from scipy.stats import rankdata"
   ]
  },
  {
   "cell_type": "code",
   "execution_count": 465,
   "metadata": {
    "collapsed": false
   },
   "outputs": [],
   "source": [
    "plant_data = pd.read_csv('plants_data_csv.csv')"
   ]
  },
  {
   "cell_type": "code",
   "execution_count": 466,
   "metadata": {
    "collapsed": false
   },
   "outputs": [
    {
     "data": {
      "text/html": [
       "<div>\n",
       "<table border=\"1\" class=\"dataframe\">\n",
       "  <thead>\n",
       "    <tr style=\"text-align: right;\">\n",
       "      <th></th>\n",
       "      <th>NAME</th>\n",
       "      <th>GROWTH PERIOD</th>\n",
       "      <th>MEDICINAL</th>\n",
       "      <th>FRUIT/VEGETABLE</th>\n",
       "      <th>COST OF SEED AND FERTILIZERS</th>\n",
       "      <th>HUMAN EFFORT</th>\n",
       "      <th>CLIMATE SUITABLITY</th>\n",
       "      <th>SOIL SUITABILITY</th>\n",
       "      <th>MARKET VALUE OF PRODUCE</th>\n",
       "      <th>AREA</th>\n",
       "    </tr>\n",
       "  </thead>\n",
       "  <tbody>\n",
       "    <tr>\n",
       "      <th>0</th>\n",
       "      <td>A1</td>\n",
       "      <td>15</td>\n",
       "      <td>1</td>\n",
       "      <td>0</td>\n",
       "      <td>7766</td>\n",
       "      <td>3</td>\n",
       "      <td>1</td>\n",
       "      <td>0</td>\n",
       "      <td>9002</td>\n",
       "      <td>4</td>\n",
       "    </tr>\n",
       "    <tr>\n",
       "      <th>1</th>\n",
       "      <td>A2</td>\n",
       "      <td>5</td>\n",
       "      <td>1</td>\n",
       "      <td>0</td>\n",
       "      <td>6031</td>\n",
       "      <td>70</td>\n",
       "      <td>1</td>\n",
       "      <td>1</td>\n",
       "      <td>9688</td>\n",
       "      <td>2</td>\n",
       "    </tr>\n",
       "    <tr>\n",
       "      <th>2</th>\n",
       "      <td>A3</td>\n",
       "      <td>9</td>\n",
       "      <td>1</td>\n",
       "      <td>0</td>\n",
       "      <td>8769</td>\n",
       "      <td>32</td>\n",
       "      <td>0</td>\n",
       "      <td>0</td>\n",
       "      <td>4824</td>\n",
       "      <td>1</td>\n",
       "    </tr>\n",
       "    <tr>\n",
       "      <th>3</th>\n",
       "      <td>A4</td>\n",
       "      <td>8</td>\n",
       "      <td>1</td>\n",
       "      <td>1</td>\n",
       "      <td>9947</td>\n",
       "      <td>51</td>\n",
       "      <td>0</td>\n",
       "      <td>0</td>\n",
       "      <td>2401</td>\n",
       "      <td>3</td>\n",
       "    </tr>\n",
       "    <tr>\n",
       "      <th>4</th>\n",
       "      <td>A5</td>\n",
       "      <td>16</td>\n",
       "      <td>1</td>\n",
       "      <td>1</td>\n",
       "      <td>5256</td>\n",
       "      <td>53</td>\n",
       "      <td>1</td>\n",
       "      <td>0</td>\n",
       "      <td>9057</td>\n",
       "      <td>5</td>\n",
       "    </tr>\n",
       "  </tbody>\n",
       "</table>\n",
       "</div>"
      ],
      "text/plain": [
       "  NAME  GROWTH PERIOD  MEDICINAL  FRUIT/VEGETABLE  \\\n",
       "0   A1             15          1                0   \n",
       "1   A2              5          1                0   \n",
       "2   A3              9          1                0   \n",
       "3   A4              8          1                1   \n",
       "4   A5             16          1                1   \n",
       "\n",
       "   COST OF SEED AND FERTILIZERS  HUMAN EFFORT  CLIMATE SUITABLITY  \\\n",
       "0                          7766             3                   1   \n",
       "1                          6031            70                   1   \n",
       "2                          8769            32                   0   \n",
       "3                          9947            51                   0   \n",
       "4                          5256            53                   1   \n",
       "\n",
       "   SOIL SUITABILITY  MARKET VALUE OF PRODUCE  AREA  \n",
       "0                 0                     9002     4  \n",
       "1                 1                     9688     2  \n",
       "2                 0                     4824     1  \n",
       "3                 0                     2401     3  \n",
       "4                 0                     9057     5  "
      ]
     },
     "execution_count": 466,
     "metadata": {},
     "output_type": "execute_result"
    }
   ],
   "source": [
    "plant_data.head()"
   ]
  },
  {
   "cell_type": "code",
   "execution_count": 467,
   "metadata": {
    "collapsed": false
   },
   "outputs": [
    {
     "data": {
      "text/html": [
       "<div>\n",
       "<table border=\"1\" class=\"dataframe\">\n",
       "  <thead>\n",
       "    <tr style=\"text-align: right;\">\n",
       "      <th></th>\n",
       "      <th>1</th>\n",
       "      <th>2</th>\n",
       "      <th>3</th>\n",
       "      <th>4</th>\n",
       "      <th>5</th>\n",
       "      <th>6</th>\n",
       "      <th>7</th>\n",
       "      <th>8</th>\n",
       "      <th>9</th>\n",
       "      <th>10</th>\n",
       "      <th>...</th>\n",
       "      <th>21</th>\n",
       "      <th>22</th>\n",
       "      <th>23</th>\n",
       "      <th>24</th>\n",
       "      <th>25</th>\n",
       "      <th>26</th>\n",
       "      <th>27</th>\n",
       "      <th>28</th>\n",
       "      <th>29</th>\n",
       "      <th>30</th>\n",
       "    </tr>\n",
       "  </thead>\n",
       "  <tbody>\n",
       "    <tr>\n",
       "      <th>0</th>\n",
       "      <td>0</td>\n",
       "      <td>0</td>\n",
       "      <td>0</td>\n",
       "      <td>1</td>\n",
       "      <td>1</td>\n",
       "      <td>0</td>\n",
       "      <td>1</td>\n",
       "      <td>0</td>\n",
       "      <td>0</td>\n",
       "      <td>1</td>\n",
       "      <td>...</td>\n",
       "      <td>2</td>\n",
       "      <td>1</td>\n",
       "      <td>0</td>\n",
       "      <td>1</td>\n",
       "      <td>1</td>\n",
       "      <td>0</td>\n",
       "      <td>0</td>\n",
       "      <td>0</td>\n",
       "      <td>0</td>\n",
       "      <td>0</td>\n",
       "    </tr>\n",
       "    <tr>\n",
       "      <th>1</th>\n",
       "      <td>0</td>\n",
       "      <td>0</td>\n",
       "      <td>0</td>\n",
       "      <td>0</td>\n",
       "      <td>1</td>\n",
       "      <td>0</td>\n",
       "      <td>0</td>\n",
       "      <td>0</td>\n",
       "      <td>1</td>\n",
       "      <td>1</td>\n",
       "      <td>...</td>\n",
       "      <td>2</td>\n",
       "      <td>1</td>\n",
       "      <td>0</td>\n",
       "      <td>0</td>\n",
       "      <td>1</td>\n",
       "      <td>0</td>\n",
       "      <td>1</td>\n",
       "      <td>0</td>\n",
       "      <td>0</td>\n",
       "      <td>1</td>\n",
       "    </tr>\n",
       "    <tr>\n",
       "      <th>2</th>\n",
       "      <td>0</td>\n",
       "      <td>1</td>\n",
       "      <td>1</td>\n",
       "      <td>1</td>\n",
       "      <td>0</td>\n",
       "      <td>0</td>\n",
       "      <td>0</td>\n",
       "      <td>1</td>\n",
       "      <td>1</td>\n",
       "      <td>0</td>\n",
       "      <td>...</td>\n",
       "      <td>1</td>\n",
       "      <td>1</td>\n",
       "      <td>0</td>\n",
       "      <td>1</td>\n",
       "      <td>1</td>\n",
       "      <td>1</td>\n",
       "      <td>1</td>\n",
       "      <td>1</td>\n",
       "      <td>1</td>\n",
       "      <td>0</td>\n",
       "    </tr>\n",
       "    <tr>\n",
       "      <th>3</th>\n",
       "      <td>1</td>\n",
       "      <td>1</td>\n",
       "      <td>1</td>\n",
       "      <td>0</td>\n",
       "      <td>0</td>\n",
       "      <td>1</td>\n",
       "      <td>1</td>\n",
       "      <td>0</td>\n",
       "      <td>0</td>\n",
       "      <td>1</td>\n",
       "      <td>...</td>\n",
       "      <td>2</td>\n",
       "      <td>1</td>\n",
       "      <td>1</td>\n",
       "      <td>1</td>\n",
       "      <td>0</td>\n",
       "      <td>0</td>\n",
       "      <td>0</td>\n",
       "      <td>1</td>\n",
       "      <td>0</td>\n",
       "      <td>1</td>\n",
       "    </tr>\n",
       "    <tr>\n",
       "      <th>4</th>\n",
       "      <td>1</td>\n",
       "      <td>0</td>\n",
       "      <td>1</td>\n",
       "      <td>0</td>\n",
       "      <td>0</td>\n",
       "      <td>1</td>\n",
       "      <td>1</td>\n",
       "      <td>0</td>\n",
       "      <td>1</td>\n",
       "      <td>0</td>\n",
       "      <td>...</td>\n",
       "      <td>2</td>\n",
       "      <td>0</td>\n",
       "      <td>0</td>\n",
       "      <td>1</td>\n",
       "      <td>1</td>\n",
       "      <td>0</td>\n",
       "      <td>0</td>\n",
       "      <td>1</td>\n",
       "      <td>1</td>\n",
       "      <td>1</td>\n",
       "    </tr>\n",
       "  </tbody>\n",
       "</table>\n",
       "<p>5 rows × 30 columns</p>\n",
       "</div>"
      ],
      "text/plain": [
       "   1  2  3  4  5  6  7  8  9  10 ...  21  22  23  24  25  26  27  28  29  30\n",
       "0  0  0  0  1  1  0  1  0  0   1 ...   2   1   0   1   1   0   0   0   0   0\n",
       "1  0  0  0  0  1  0  0  0  1   1 ...   2   1   0   0   1   0   1   0   0   1\n",
       "2  0  1  1  1  0  0  0  1  1   0 ...   1   1   0   1   1   1   1   1   1   0\n",
       "3  1  1  1  0  0  1  1  0  0   1 ...   2   1   1   1   0   0   0   1   0   1\n",
       "4  1  0  1  0  0  1  1  0  1   0 ...   2   0   0   1   1   0   0   1   1   1\n",
       "\n",
       "[5 rows x 30 columns]"
      ]
     },
     "execution_count": 467,
     "metadata": {},
     "output_type": "execute_result"
    }
   ],
   "source": [
    "population = pd.read_csv('population.csv')\n",
    "population.head()"
   ]
  },
  {
   "cell_type": "code",
   "execution_count": 468,
   "metadata": {
    "collapsed": true
   },
   "outputs": [],
   "source": [
    "\n",
    "def mutation( chromosome):\n",
    "    allel = random.randrange(0,30,1)\n",
    "    chromosome[allel] = random.randrange(0,3,1)\n",
    "    return chromosome"
   ]
  },
  {
   "cell_type": "code",
   "execution_count": 486,
   "metadata": {
    "collapsed": true
   },
   "outputs": [],
   "source": [
    "def crossover( parent1, parent2):\n",
    "    exchange_pt = random.randrange(0,30,1)\n",
    "    #print exchange_pt\n",
    "    #print parent1\n",
    "    b = parent1[exchange_pt:30].copy()\n",
    "    c = parent2[exchange_pt :30].copy()\n",
    "    #print b\n",
    "    #print c\n",
    "    parent1[exchange_pt:30] = c\n",
    "    parent2[exchange_pt:30] = b\n",
    "    return (parent1, parent2)"
   ]
  },
  {
   "cell_type": "code",
   "execution_count": 470,
   "metadata": {
    "collapsed": false
   },
   "outputs": [],
   "source": [
    "def fitness1_calculation(population):\n",
    "    fitness = []\n",
    "    for chrom in range(len(population.index)): \n",
    "        fitness_value = 0.0\n",
    "        #print chrom\n",
    "        for i in range(30):\n",
    "            fitness_value += population.iloc[chrom][i]*(plant_data['MARKET VALUE OF PRODUCE'][i]- plant_data['COST OF SEED AND FERTILIZERS'][i])\n",
    "            #print type(fitness_value)\n",
    "        fitness.append(fitness_value)\n",
    "    return fitness    "
   ]
  },
  {
   "cell_type": "code",
   "execution_count": 471,
   "metadata": {
    "collapsed": false
   },
   "outputs": [
    {
     "name": "stdout",
     "output_type": "stream",
     "text": [
      "[-13656.0, -14073.0, -16766.0, -14975.0, -32827.0, 5155.0, -14197.0, -10483.0, -1998.0, -11788.0, -12279.0, -10406.0, 3101.0, 15413.0, -28919.0, -15600.0, -27916.0, -781.0, -22856.0, -4273.0, -11703.0, -18040.0, -10174.0, 8371.0, -28895.0, -5322.0, 7727.0, 18359.0, -20038.0, 13467.0, -34098.0, -7663.0, -2642.0, -12226.0, -16371.0, -21452.0, -9217.0, -18416.0, -24915.0, 4617.0, -9596.0, 5584.0, -11261.0, 13790.0, -28705.0, -3749.0, 2351.0, -2631.0, -11400.0, -7778.0]\n"
     ]
    }
   ],
   "source": [
    "print(fitness1_calculation(population))"
   ]
  },
  {
   "cell_type": "code",
   "execution_count": 472,
   "metadata": {
    "collapsed": false
   },
   "outputs": [],
   "source": [
    "\n",
    "def fitness2_calculation(population):\n",
    "    fitness = []\n",
    "    for chrom in range(len(population.index)):\n",
    "        fitness_value = 0.0\n",
    "        for i in range(30):\n",
    "            x = population.iloc[chrom][i]*(plant_data['GROWTH PERIOD'][i] + 12* plant_data['SOIL SUITABILITY'][i] \n",
    "                                      + 12*plant_data['CLIMATE SUITABLITY'][i] )\n",
    "            fitness_value += math.exp(-x)\n",
    "        fitness.append(fitness_value)\n",
    "    return fitness "
   ]
  },
  {
   "cell_type": "code",
   "execution_count": 473,
   "metadata": {
    "collapsed": false
   },
   "outputs": [
    {
     "name": "stdout",
     "output_type": "stream",
     "text": [
      "[16.0212544423665, 16.002479253456478, 9.021383431551751, 10.01844009671252, 13.02091917465393, 14.000000956038779, 12.020801924222427, 15.02080070045874, 15.0027269399341, 10.020795663871759, 19.020794432781525, 17.002480135792386, 13.0209180074855, 13.018440253928297, 15.002603055747715, 9.018899426624245, 14.020794942876728, 19.000336309387585, 20.00045933226886, 12.018775146206544, 12.000247938441357, 11.018440248394977, 12.021041727180414, 15.018445454077025, 10.021042564272344, 12.018440111657899, 10.018782187244982, 17.00012996351937, 9.021260740778908, 14.01844062180358, 19.018651938648695, 14.002938737839063, 14.018563868317719, 15.018563015942945, 14.018904943870732, 13.021253396910335, 14.018651379231885, 16.01843929488007, 10.000342731593866, 15.002480114723536, 13.018569098927534, 15.021253681973583, 11.020919240839145, 15.020918097875665, 13.021253800836059, 13.02091891414183, 18.01831587919542, 17.00281453794196, 18.01843938629838, 11.002603296119418]\n"
     ]
    }
   ],
   "source": [
    "print(fitness2_calculation(population))"
   ]
  },
  {
   "cell_type": "code",
   "execution_count": 474,
   "metadata": {
    "collapsed": true
   },
   "outputs": [],
   "source": [
    "\n",
    "def sum_of_weighted_ratios(fitness1, fitness2):\n",
    "    min_f1 = min(fitness1)\n",
    "    max_f1 = max(fitness1)\n",
    "    min_f2 = min(fitness2)\n",
    "    max_f2 = max(fitness2)\n",
    "    fitness1 = (fitness1-min_f1)/(max_f1-min_f1)\n",
    "    fitness2 = (fitness2-min_f2)/(max_f2-min_f2)\n",
    "    fitness = fitness1+fitness2\n",
    "    return fitness"
   ]
  },
  {
   "cell_type": "code",
   "execution_count": 475,
   "metadata": {
    "collapsed": false
   },
   "outputs": [],
   "source": [
    "fitness = sum_of_weighted_ratios(np.array(fitness1_calculation(population)), np.array(fitness2_calculation(population)))"
   ]
  },
  {
   "cell_type": "code",
   "execution_count": 476,
   "metadata": {
    "collapsed": false
   },
   "outputs": [
    {
     "data": {
      "text/plain": [
       "array([ 32.,  31.,   4.,   7.,   6.,  37.,  15.,  30.,  35.,  10.,  43.,\n",
       "        36.,  34.,  42.,  14.,   5.,  11.,  49.,  38.,  22.,  17.,   9.,\n",
       "        18.,  45.,   1.,  20.,  23.,  50.,   3.,  46.,  24.,  28.,  33.,\n",
       "        29.,  19.,  12.,  25.,  26.,   2.,  40.,  21.,  41.,  13.,  47.,\n",
       "         8.,  27.,  48.,  44.,  39.,  16.])"
      ]
     },
     "execution_count": 476,
     "metadata": {},
     "output_type": "execute_result"
    }
   ],
   "source": [
    "rankdata(fitness)"
   ]
  },
  {
   "cell_type": "code",
   "execution_count": 477,
   "metadata": {
    "collapsed": true
   },
   "outputs": [],
   "source": [
    "def objective(population):\n",
    "    fitness = sum_of_weighted_ratios(np.array(fitness1_calculation(population)), np.array(fitness2_calculation(population)))\n",
    "    return fitness , rankdata(fitness)"
   ]
  },
  {
   "cell_type": "code",
   "execution_count": 478,
   "metadata": {
    "collapsed": false
   },
   "outputs": [
    {
     "data": {
      "text/html": [
       "<div>\n",
       "<table border=\"1\" class=\"dataframe\">\n",
       "  <thead>\n",
       "    <tr style=\"text-align: right;\">\n",
       "      <th></th>\n",
       "      <th>1</th>\n",
       "      <th>2</th>\n",
       "      <th>3</th>\n",
       "      <th>4</th>\n",
       "      <th>5</th>\n",
       "      <th>6</th>\n",
       "      <th>7</th>\n",
       "      <th>8</th>\n",
       "      <th>9</th>\n",
       "      <th>10</th>\n",
       "      <th>...</th>\n",
       "      <th>23</th>\n",
       "      <th>24</th>\n",
       "      <th>25</th>\n",
       "      <th>26</th>\n",
       "      <th>27</th>\n",
       "      <th>28</th>\n",
       "      <th>29</th>\n",
       "      <th>30</th>\n",
       "      <th>Cost</th>\n",
       "      <th>Objective</th>\n",
       "    </tr>\n",
       "  </thead>\n",
       "  <tbody>\n",
       "    <tr>\n",
       "      <th>0</th>\n",
       "      <td>0</td>\n",
       "      <td>0</td>\n",
       "      <td>0</td>\n",
       "      <td>1</td>\n",
       "      <td>1</td>\n",
       "      <td>0</td>\n",
       "      <td>1</td>\n",
       "      <td>0</td>\n",
       "      <td>0</td>\n",
       "      <td>1</td>\n",
       "      <td>...</td>\n",
       "      <td>0</td>\n",
       "      <td>1</td>\n",
       "      <td>1</td>\n",
       "      <td>0</td>\n",
       "      <td>0</td>\n",
       "      <td>0</td>\n",
       "      <td>0</td>\n",
       "      <td>0</td>\n",
       "      <td>1.027337</td>\n",
       "      <td>32.0</td>\n",
       "    </tr>\n",
       "    <tr>\n",
       "      <th>1</th>\n",
       "      <td>0</td>\n",
       "      <td>0</td>\n",
       "      <td>0</td>\n",
       "      <td>0</td>\n",
       "      <td>1</td>\n",
       "      <td>0</td>\n",
       "      <td>0</td>\n",
       "      <td>0</td>\n",
       "      <td>1</td>\n",
       "      <td>1</td>\n",
       "      <td>...</td>\n",
       "      <td>0</td>\n",
       "      <td>0</td>\n",
       "      <td>1</td>\n",
       "      <td>0</td>\n",
       "      <td>1</td>\n",
       "      <td>0</td>\n",
       "      <td>0</td>\n",
       "      <td>1</td>\n",
       "      <td>1.017678</td>\n",
       "      <td>31.0</td>\n",
       "    </tr>\n",
       "    <tr>\n",
       "      <th>2</th>\n",
       "      <td>0</td>\n",
       "      <td>1</td>\n",
       "      <td>1</td>\n",
       "      <td>1</td>\n",
       "      <td>0</td>\n",
       "      <td>0</td>\n",
       "      <td>0</td>\n",
       "      <td>1</td>\n",
       "      <td>1</td>\n",
       "      <td>0</td>\n",
       "      <td>...</td>\n",
       "      <td>0</td>\n",
       "      <td>1</td>\n",
       "      <td>1</td>\n",
       "      <td>1</td>\n",
       "      <td>1</td>\n",
       "      <td>1</td>\n",
       "      <td>1</td>\n",
       "      <td>0</td>\n",
       "      <td>0.330630</td>\n",
       "      <td>4.0</td>\n",
       "    </tr>\n",
       "    <tr>\n",
       "      <th>3</th>\n",
       "      <td>1</td>\n",
       "      <td>1</td>\n",
       "      <td>1</td>\n",
       "      <td>0</td>\n",
       "      <td>0</td>\n",
       "      <td>1</td>\n",
       "      <td>1</td>\n",
       "      <td>0</td>\n",
       "      <td>0</td>\n",
       "      <td>1</td>\n",
       "      <td>...</td>\n",
       "      <td>1</td>\n",
       "      <td>1</td>\n",
       "      <td>0</td>\n",
       "      <td>0</td>\n",
       "      <td>0</td>\n",
       "      <td>1</td>\n",
       "      <td>0</td>\n",
       "      <td>1</td>\n",
       "      <td>0.455566</td>\n",
       "      <td>7.0</td>\n",
       "    </tr>\n",
       "    <tr>\n",
       "      <th>4</th>\n",
       "      <td>1</td>\n",
       "      <td>0</td>\n",
       "      <td>1</td>\n",
       "      <td>0</td>\n",
       "      <td>0</td>\n",
       "      <td>1</td>\n",
       "      <td>1</td>\n",
       "      <td>0</td>\n",
       "      <td>1</td>\n",
       "      <td>0</td>\n",
       "      <td>...</td>\n",
       "      <td>0</td>\n",
       "      <td>1</td>\n",
       "      <td>1</td>\n",
       "      <td>0</td>\n",
       "      <td>0</td>\n",
       "      <td>1</td>\n",
       "      <td>1</td>\n",
       "      <td>1</td>\n",
       "      <td>0.388660</td>\n",
       "      <td>6.0</td>\n",
       "    </tr>\n",
       "  </tbody>\n",
       "</table>\n",
       "<p>5 rows × 32 columns</p>\n",
       "</div>"
      ],
      "text/plain": [
       "   1  2  3  4  5  6  7  8  9  10    ...      23  24  25  26  27  28  29  30  \\\n",
       "0  0  0  0  1  1  0  1  0  0   1    ...       0   1   1   0   0   0   0   0   \n",
       "1  0  0  0  0  1  0  0  0  1   1    ...       0   0   1   0   1   0   0   1   \n",
       "2  0  1  1  1  0  0  0  1  1   0    ...       0   1   1   1   1   1   1   0   \n",
       "3  1  1  1  0  0  1  1  0  0   1    ...       1   1   0   0   0   1   0   1   \n",
       "4  1  0  1  0  0  1  1  0  1   0    ...       0   1   1   0   0   1   1   1   \n",
       "\n",
       "       Cost  Objective  \n",
       "0  1.027337       32.0  \n",
       "1  1.017678       31.0  \n",
       "2  0.330630        4.0  \n",
       "3  0.455566        7.0  \n",
       "4  0.388660        6.0  \n",
       "\n",
       "[5 rows x 32 columns]"
      ]
     },
     "execution_count": 478,
     "metadata": {},
     "output_type": "execute_result"
    }
   ],
   "source": [
    "population['Cost'] , population['Objective'] = objective(population)\n",
    "population.head()"
   ]
  },
  {
   "cell_type": "code",
   "execution_count": 479,
   "metadata": {
    "collapsed": false
   },
   "outputs": [],
   "source": [
    "def survivor_selection(population, max_area):\n",
    "    isDrop = []\n",
    "    for chrom in range(len(population.index)):\n",
    "        area = 0.0\n",
    "        for i in range(30):\n",
    "            area += population.iloc[chrom][i]*plant_data['AREA'][i]\n",
    "        if area > max_area:\n",
    "            isDrop.append(True)\n",
    "        else:\n",
    "            isDrop.append(False)\n",
    "    population = population.drop(population[isDrop].index)\n",
    "    return population    "
   ]
  },
  {
   "cell_type": "code",
   "execution_count": 278,
   "metadata": {
    "collapsed": false
   },
   "outputs": [],
   "source": [
    "population = survivor_selection(population, 90)"
   ]
  },
  {
   "cell_type": "code",
   "execution_count": 480,
   "metadata": {
    "collapsed": false
   },
   "outputs": [
    {
     "name": "stdout",
     "output_type": "stream",
     "text": [
      "50\n"
     ]
    }
   ],
   "source": [
    "print len(population)"
   ]
  },
  {
   "cell_type": "code",
   "execution_count": 481,
   "metadata": {
    "collapsed": true
   },
   "outputs": [],
   "source": [
    "def tournament( rank , participants):\n",
    "    return min(rank[participants])"
   ]
  },
  {
   "cell_type": "code",
   "execution_count": 482,
   "metadata": {
    "collapsed": false
   },
   "outputs": [],
   "source": [
    "def sampling( size, k):\n",
    "    x = random.sample(range(0, size), k)\n",
    "    part = np.full((size), False)\n",
    "    for i in x:\n",
    "        part[i] = True\n",
    "    return part    "
   ]
  },
  {
   "cell_type": "code",
   "execution_count": 483,
   "metadata": {
    "collapsed": false
   },
   "outputs": [
    {
     "name": "stdout",
     "output_type": "stream",
     "text": [
      "29.0\n"
     ]
    }
   ],
   "source": [
    "part = sampling(50,3)\n",
    "print tournament(population.iloc[:,31].values, part.astype(bool))"
   ]
  },
  {
   "cell_type": "code",
   "execution_count": 490,
   "metadata": {
    "collapsed": false
   },
   "outputs": [
    {
     "name": "stdout",
     "output_type": "stream",
     "text": [
      "49\n",
      "49\n",
      "49\n",
      "49\n",
      "49\n",
      "49\n",
      "49\n",
      "49\n",
      "49\n",
      "49\n",
      "49\n",
      "49\n",
      "49\n",
      "49\n",
      "49\n",
      "49\n",
      "49\n",
      "49\n",
      "49\n",
      "49\n",
      "49\n",
      "49\n",
      "49\n",
      "49\n",
      "49\n",
      "49\n",
      "49\n",
      "49\n",
      "49\n",
      "49\n",
      "49\n",
      "49\n",
      "49\n",
      "49\n",
      "49\n",
      "49\n",
      "49\n",
      "49\n",
      "49\n",
      "49\n",
      "49\n",
      "49\n",
      "49\n",
      "49\n",
      "49\n",
      "49\n",
      "49\n",
      "49\n",
      "48\n"
     ]
    },
    {
     "name": "stderr",
     "output_type": "stream",
     "text": [
      "C:\\Users\\Dell\\Anaconda2\\envs\\gl-env\\lib\\site-packages\\numpy\\core\\numeric.py:294: FutureWarning: in the future, full(48, False) will return an array of dtype('bool')\n",
      "  format(shape, fill_value, array(fill_value).dtype), FutureWarning)\n"
     ]
    },
    {
     "name": "stdout",
     "output_type": "stream",
     "text": [
      "48\n",
      "48\n",
      "48\n",
      "48\n",
      "48\n",
      "48\n",
      "48\n",
      "48\n",
      "48\n",
      "48\n",
      "48\n",
      "48\n",
      "48\n",
      "48\n",
      "48\n",
      "48\n",
      "48\n",
      "48\n",
      "48\n",
      "48\n",
      "48\n",
      "48\n",
      "48\n",
      "48\n",
      "48\n",
      "48\n",
      "48\n",
      "48\n",
      "48\n",
      "48\n",
      "47\n"
     ]
    },
    {
     "name": "stderr",
     "output_type": "stream",
     "text": [
      "C:\\Users\\Dell\\Anaconda2\\envs\\gl-env\\lib\\site-packages\\numpy\\core\\numeric.py:294: FutureWarning: in the future, full(47, False) will return an array of dtype('bool')\n",
      "  format(shape, fill_value, array(fill_value).dtype), FutureWarning)\n"
     ]
    },
    {
     "name": "stdout",
     "output_type": "stream",
     "text": [
      "47\n",
      "47\n",
      "47\n",
      "47\n",
      "47\n",
      "47\n",
      "47\n",
      "47\n",
      "47\n",
      "46\n"
     ]
    },
    {
     "name": "stderr",
     "output_type": "stream",
     "text": [
      "C:\\Users\\Dell\\Anaconda2\\envs\\gl-env\\lib\\site-packages\\numpy\\core\\numeric.py:294: FutureWarning: in the future, full(46, False) will return an array of dtype('bool')\n",
      "  format(shape, fill_value, array(fill_value).dtype), FutureWarning)\n"
     ]
    },
    {
     "name": "stdout",
     "output_type": "stream",
     "text": [
      "46\n",
      "46\n",
      "46\n",
      "46\n",
      "46\n",
      "46\n",
      "46\n",
      "46\n",
      "46\n",
      "46\n"
     ]
    }
   ],
   "source": [
    "pop_size = 50\n",
    "for i in range(100):\n",
    "    if pop_size < 20:\n",
    "        break\n",
    "    part = sampling(pop_size,10)\n",
    "    parent1 = int(tournament(population.iloc[:,31].values, part.astype(bool)))-1\n",
    "    part = sampling(pop_size,10)\n",
    "    parent2 = int(tournament(population.iloc[:,31].values, part.astype(bool)))-1\n",
    "    #print parent1, parent2\n",
    "    if parent1 != parent2:\n",
    "        population.iloc[parent1, 0:30], population.iloc[parent2,0:30] = crossover(population.iloc[parent1, 0:30].copy(), population.iloc[parent2,0:30].copy())\n",
    "    population.iloc[parent1, 0:30] = mutation(population.iloc[parent1,0:30])\n",
    "    population.iloc[parent2, 0:30] = mutation(population.iloc[parent2, 0:30])\n",
    "    population['Cost'] , population['Objective'] = objective(population)\n",
    "    population = survivor_selection(population, 85)\n",
    "    pop_size = len(population)\n",
    "    print pop_size\n",
    "    population['Cost'] , population['Objective'] = objective(population)\n",
    "    #print population.iloc[parent2,:]"
   ]
  },
  {
   "cell_type": "code",
   "execution_count": null,
   "metadata": {
    "collapsed": true
   },
   "outputs": [],
   "source": []
  }
 ],
 "metadata": {
  "kernelspec": {
   "display_name": "Python 2",
   "language": "python",
   "name": "python2"
  },
  "language_info": {
   "codemirror_mode": {
    "name": "ipython",
    "version": 2
   },
   "file_extension": ".py",
   "mimetype": "text/x-python",
   "name": "python",
   "nbconvert_exporter": "python",
   "pygments_lexer": "ipython2",
   "version": "2.7.13"
  }
 },
 "nbformat": 4,
 "nbformat_minor": 0
}
